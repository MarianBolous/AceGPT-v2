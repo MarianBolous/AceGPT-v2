{
  "cells": [
    {
      "cell_type": "markdown",
      "metadata": {
        "id": "view-in-github",
        "colab_type": "text"
      },
      "source": [
        "<a href=\"https://colab.research.google.com/github/MarianBolous/AceGPT-v2/blob/main/california_rf_colab.ipynb\" target=\"_parent\"><img src=\"https://colab.research.google.com/assets/colab-badge.svg\" alt=\"Open In Colab\"/></a>"
      ]
    },
    {
      "cell_type": "markdown",
      "id": "d842c42f",
      "metadata": {
        "id": "d842c42f"
      },
      "source": [
        "# California Housing Regression with scikit‑learn & MLflow (Google Colab)\n",
        "\n",
        "End‑to‑end ML pipeline **ready to run in Colab**:\n",
        "1. Install deps in the VM\n",
        "2. Mount Google Drive for persistent MLflow runs\n",
        "3. Expose the MLflow UI via **ngrok**\n",
        "4. Train & register a RandomForest model\n",
        "5. Optional: serve the model behind a public URL\n"
      ]
    },
    {
      "cell_type": "markdown",
      "id": "eaf67b10",
      "metadata": {
        "id": "eaf67b10"
      },
      "source": [
        "## 0  Install dependencies"
      ]
    },
    {
      "cell_type": "code",
      "execution_count": null,
      "id": "287b9b9a",
      "metadata": {
        "id": "287b9b9a"
      },
      "outputs": [],
      "source": [
        "!pip -q install --upgrade pip\n",
        "!pip -q install scikit-learn==1.4.2 mlflow pyngrok pandas numpy matplotlib seaborn\n"
      ]
    },
    {
      "cell_type": "markdown",
      "id": "1a4417e4",
      "metadata": {
        "id": "1a4417e4"
      },
      "source": [
        "## 1  Mount Google Drive (to keep MLflow artifacts)"
      ]
    },
    {
      "cell_type": "code",
      "execution_count": null,
      "id": "a015ff82",
      "metadata": {
        "id": "a015ff82"
      },
      "outputs": [],
      "source": [
        "from google.colab import drive\n",
        "drive.mount('/content/drive')\n",
        "import os\n",
        "os.environ['MLFLOW_TRACKING_URI'] = 'file:///content/drive/MyDrive/mlruns'\n"
      ]
    },
    {
      "cell_type": "markdown",
      "id": "21f15d94",
      "metadata": {
        "id": "21f15d94"
      },
      "source": [
        "## 2  Launch MLflow UI via ngrok"
      ]
    },
    {
      "cell_type": "code",
      "execution_count": null,
      "id": "801d82ca",
      "metadata": {
        "id": "801d82ca"
      },
      "outputs": [],
      "source": [
        "import subprocess, time\n",
        "from pyngrok import ngrok\n",
        "\n",
        "# 🔑 Paste your token below\n",
        "ngrok.set_auth_token('PASTE_YOUR_NGROK_TOKEN')\n",
        "\n",
        "mlflow_ui = subprocess.Popen(['mlflow', 'ui', '--port', '5000', '--host', '0.0.0.0'])\n",
        "time.sleep(3)\n",
        "public_url = ngrok.connect(addr=5000, proto='http')\n",
        "print('MLflow UI 👉', public_url.public_url)\n"
      ]
    },
    {
      "cell_type": "markdown",
      "id": "ad0d593b",
      "metadata": {
        "id": "ad0d593b"
      },
      "source": [
        "## 3  Imports & experiment setup"
      ]
    },
    {
      "cell_type": "code",
      "execution_count": null,
      "id": "1328b7eb",
      "metadata": {
        "id": "1328b7eb"
      },
      "outputs": [],
      "source": [
        "import os, subprocess, time\n",
        "import mlflow, mlflow.sklearn\n",
        "from sklearn.datasets import fetch_california_housing\n",
        "from sklearn.model_selection import train_test_split, GridSearchCV\n",
        "from sklearn.pipeline import Pipeline\n",
        "from sklearn.preprocessing import StandardScaler\n",
        "from sklearn.metrics import mean_absolute_error, root_mean_squared_error, r2_score\n",
        "from sklearn.ensemble import RandomForestRegressor\n",
        "from mlflow.models import infer_signature\n",
        "import pandas as pd\n",
        "import numpy as np\n",
        "\n",
        "EXPERIMENT_NAME = 'DS-Method-California-Housing'\n",
        "mlflow.set_experiment(EXPERIMENT_NAME)\n"
      ]
    },
    {
      "cell_type": "markdown",
      "id": "fc26e290",
      "metadata": {
        "id": "fc26e290"
      },
      "source": [
        "## 4  Load data, build pipeline, train & log"
      ]
    },
    {
      "cell_type": "code",
      "execution_count": null,
      "id": "e285ba60",
      "metadata": {
        "id": "e285ba60"
      },
      "outputs": [],
      "source": [
        "raw = fetch_california_housing(as_frame=True)\n",
        "X_full, y_full = raw.data, raw.target\n",
        "X_full.describe().to_csv('feature_summary.csv')\n",
        "\n",
        "X_train, X_test, y_train, y_test = train_test_split(\n",
        "    X_full, y_full, test_size=0.20, random_state=42)\n",
        "\n",
        "pipe = Pipeline([\n",
        "    ('scale', StandardScaler()),\n",
        "    ('rf', RandomForestRegressor(random_state=42))\n",
        "])\n",
        "\n",
        "param_grid = {\n",
        "    'rf__n_estimators': [120, 240],\n",
        "    'rf__max_depth': [None, 15],\n",
        "    'rf__min_samples_split': [2, 4]\n",
        "}\n",
        "\n",
        "with mlflow.start_run(run_name='rf_regressor_colab'):\n",
        "    gscv = GridSearchCV(\n",
        "        pipe,\n",
        "        param_grid=param_grid,\n",
        "        cv=3,\n",
        "        scoring='neg_mean_absolute_error',\n",
        "        n_jobs=-1,\n",
        "        verbose=1,\n",
        "    ).fit(X_train, y_train)\n",
        "\n",
        "    best = gscv.best_estimator_\n",
        "    mlflow.log_params(gscv.best_params_)\n",
        "\n",
        "    y_pred = best.predict(X_test)\n",
        "    metrics = {\n",
        "        'MAE': mean_absolute_error(y_test, y_pred),\n",
        "        'RMSE': root_mean_squared_error(y_test, y_pred),\n",
        "        'R2': r2_score(y_test, y_pred),\n",
        "    }\n",
        "    mlflow.log_metrics(metrics)\n",
        "\n",
        "    fi = pd.Series(best.named_steps['rf'].feature_importances_,\n",
        "                   index=X_full.columns).sort_values(ascending=False)\n",
        "    fi.to_csv('feature_importance.csv')\n",
        "    mlflow.log_artifact('feature_importance.csv', artifact_path='insight')\n",
        "    mlflow.log_artifact('feature_summary.csv', artifact_path='eda')\n",
        "\n",
        "    signature = infer_signature(X_test.head(5), best.predict(X_test.head(5)))\n",
        "    mlflow.sklearn.log_model(\n",
        "        best,\n",
        "        artifact_path='model',\n",
        "        registered_model_name='CaliforniaRFRegressor',\n",
        "        signature=signature,\n",
        "        input_example=X_test.head(5),\n",
        "    )\n",
        "\n",
        "print('✅ Training run complete — check the MLflow UI link above')\n"
      ]
    },
    {
      "cell_type": "markdown",
      "id": "b596157e",
      "metadata": {
        "id": "b596157e"
      },
      "source": [
        "## 5  (Optional) Serve the model with ngrok"
      ]
    },
    {
      "cell_type": "code",
      "execution_count": null,
      "id": "b5f5538f",
      "metadata": {
        "id": "b5f5538f"
      },
      "outputs": [],
      "source": [
        "# from pyngrok import ngrok\n",
        "# model_uri = 'models:/CaliforniaRFRegressor/1'\n",
        "# proc = subprocess.Popen(['mlflow', 'models', 'serve', '-m', model_uri, '-p', '9000', '--host', '0.0.0.0'])\n",
        "# time.sleep(5)\n",
        "# endpoint = ngrok.connect(9000, 'http')\n",
        "# print('Model endpoint 👉', endpoint.public_url + '/invocations')\n"
      ]
    }
  ],
  "metadata": {
    "kernelspec": {
      "display_name": "Python 3 (ipykernel)",
      "language": "python",
      "name": "python3"
    },
    "language_info": {
      "codemirror_mode": {
        "name": "ipython",
        "version": 3
      },
      "file_extension": ".py",
      "mimetype": "text/x-python",
      "name": "python",
      "nbconvert_exporter": "python",
      "pygments_lexer": "ipython3",
      "version": "3.12.10"
    },
    "colab": {
      "provenance": [],
      "include_colab_link": true
    }
  },
  "nbformat": 4,
  "nbformat_minor": 5
}